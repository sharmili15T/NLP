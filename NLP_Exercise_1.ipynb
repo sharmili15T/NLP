{
  "nbformat": 4,
  "nbformat_minor": 0,
  "metadata": {
    "colab": {
      "name": "NLP_Exercise-1.ipynb",
      "provenance": []
    },
    "kernelspec": {
      "name": "python3",
      "display_name": "Python 3"
    },
    "language_info": {
      "name": "python"
    }
  },
  "cells": [
    {
      "cell_type": "code",
      "metadata": {
        "id": "5tUIAKyavhAT"
      },
      "source": [
        "# Data is reviews collected on Lenovo K8 Note and the objective is to carry out text cleaning as well as build a prediction model for sentiment classification."
      ],
      "execution_count": 1,
      "outputs": []
    },
    {
      "cell_type": "code",
      "metadata": {
        "id": "OzugEDeWtPwd"
      },
      "source": [
        "# Questions:\n",
        "\n",
        "# 1. Read in the Reviews dataset which is tab-separated and conduct the usual exploratory anaylsis on it.\n",
        "# 2. What are the most frequently occuring words in the review column? Plot the top 25 words.\n",
        "# 3. Analyze the top 25 words identified in the previous step using frequency distribution and bar plots.\n",
        "# 4. Based on the analysis carried out in step 3, do text cleaning as suitable for the data you have such as:\n",
        "#    (a) Ensure uniform case for all the reviews.\n",
        "#    (b) Filter out the stopwords and punctuations, and ensure word length to be greater than 2.\n",
        "#    (c) Carry out stemming using snowball stemmer and again ensure the root word length to be greater than 2.\n",
        "#    (d) Create bigrams on the clean review, store it as dataframe and visualize the top 25 bigrams.\n",
        "#    (e) Using tfidf vectorizer, find top 5 reviews based on any 2 features shown in the bigram plot.\n",
        "# 5. Create a classifier model to accurately predict the sentiment."
      ],
      "execution_count": 2,
      "outputs": []
    }
  ]
}